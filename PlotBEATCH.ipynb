{
 "cells": [
  {
   "cell_type": "code",
   "execution_count": 1,
   "id": "206882f4",
   "metadata": {},
   "outputs": [],
   "source": [
    "import matplotlib.pyplot as plt\n",
    "from matplotlib.patches import Rectangle\n",
    "import numpy as np"
   ]
  },
  {
   "cell_type": "code",
   "execution_count": null,
   "id": "7afe7773",
   "metadata": {},
   "outputs": [],
   "source": []
  },
  {
   "cell_type": "code",
   "execution_count": 2,
   "id": "9f7032c4",
   "metadata": {},
   "outputs": [],
   "source": [
    "class LineElement:\n",
    "    \n",
    "    def __init__(self, name, element, length, ZCoordinate, XCoordinate, position, angle, lineAngle):\n",
    "        self.name = name\n",
    "        self.element = element\n",
    "        self.length = float(length)\n",
    "        self.startCoordinates = [ZCoordinate, XCoordinate]\n",
    "        self.position = position\n",
    "        self.angle = angle\n",
    "        self.lineAngle = lineAngle\n",
    "        \n",
    "        \n",
    "def PicKColor(elemNumber):\n",
    "    if elemNumber == '8' :\n",
    "        color = 'green'\n",
    "    elif elemNumber == '2' or elemNumber == '3' :\n",
    "        color = 'blue'\n",
    "    elif elemNumber == '20' :\n",
    "        color = 'goldenrod'\n",
    "    elif elemNumber == '10' :\n",
    "        color = 'black'        \n",
    "    elif elemNumber == '6' or elemNumber == '7' or elemNumber == '9' or elemNumber == '22'  or elemNumber == '14':\n",
    "        color = 'pink'\n",
    "    else:\n",
    "        color = 'red'\n",
    "    return(color)"
   ]
  },
  {
   "cell_type": "code",
   "execution_count": 3,
   "id": "7feef407",
   "metadata": {
    "scrolled": true
   },
   "outputs": [],
   "source": [
    "def ConvertToList(lines):\n",
    "    elements = []\n",
    "    startCoordinateZ = 0\n",
    "    startCoordinateX = 0\n",
    "    lineAngle = 0\n",
    "    for i, entry in enumerate(lines):\n",
    "\n",
    "        name = entry[:10]\n",
    "\n",
    "        rest = [j for j in entry[10:].split(' ') if j != '']\n",
    "\n",
    "        element = rest[0]\n",
    "        length  = float(rest[1])\n",
    "\n",
    "\n",
    "        #might break if length entry <39?\n",
    "        angle = entry[30:39].strip(' ')\n",
    "        if angle == '':\n",
    "            angle=0\n",
    "        else:\n",
    "            angle = float(angle)\n",
    "            lineAngle += angle\n",
    "\n",
    "        position = i\n",
    "\n",
    "\n",
    "        #if length == 0: continue\n",
    "\n",
    "\n",
    "\n",
    "\n",
    "\n",
    "        elements.append(LineElement(name, element, length, startCoordinateZ, startCoordinateX, position, angle, lineAngle))\n",
    "\n",
    "\n",
    "        startCoordinateZ += length * np.cos(lineAngle)\n",
    "        startCoordinateX += length * np.sin(lineAngle)\n",
    "\n",
    "        #print(name, startCoordinateZ,'       ', startCoordinateX)\n",
    "    return(elements)"
   ]
  },
  {
   "cell_type": "code",
   "execution_count": 12,
   "id": "6b7b84ab",
   "metadata": {},
   "outputs": [],
   "source": [
    "def PlotLine(elements):\n",
    "\n",
    "    \n",
    "    fig, ax = plt.subplots()\n",
    "    sizeRect = 1\n",
    "\n",
    "    prevAngle = 0\n",
    "\n",
    "\n",
    "    for item in elements:\n",
    "        if item.element == '1': continue\n",
    "\n",
    "        z = item.startCoordinates[0]\n",
    "\n",
    "        x = item.startCoordinates[1]\n",
    "\n",
    "\n",
    "        length = item.length\n",
    "        color = PicKColor(item.element)\n",
    "        angle = item.angle\n",
    "        lineAngle = item.lineAngle\n",
    "\n",
    "\n",
    "        ZoffsetRectCorner =  0#np.sin((angle - lineAngle)/2) * sizeRect/2 \n",
    "        XoffsetRectCorner = 0#sizeRect/2-np.cos((angle - lineAngle)/2) * sizeRect/2     \n",
    "\n",
    "\n",
    "        rect = Rectangle((0,0), length, sizeRect, angle=0, color=color, alpha=0.4)\n",
    "\n",
    "        rect.set_xy((z + ZoffsetRectCorner, x-(sizeRect/2 + XoffsetRectCorner)))\n",
    "        ax.add_patch(rect)\n",
    "\n",
    "        prevAngle = angle\n",
    "\n",
    "    ax.grid()\n",
    "    ax.set_xlim(0, ((z+50)//50)*50)\n",
    "    ax.set_ylim(0, 50)\n",
    "    #plt.grid()\n",
    "    #plt.show()\n",
    "    return(ax)"
   ]
  },
  {
   "cell_type": "code",
   "execution_count": 13,
   "id": "73ea4dc8",
   "metadata": {},
   "outputs": [],
   "source": [
    "beatchIN = \"H2-VLE-v3-BEATCH.in\" #\"NewH2_BEATCH_v0.in\"\n",
    "nskipStart = 2\n",
    "with open(beatchIN) as f:\n",
    "    \n",
    "    lines = f.read().splitlines()[nskipStart:-3]\n",
    "    \n",
    "    \n",
    "linesVLE = lines#[170:-50]\n",
    "\n",
    "\n",
    "\n",
    "beatchIN = \"NewH2_BEATCH_v0.in\"\n",
    "nskipStart = 2\n",
    "with open(beatchIN) as f:\n",
    "    \n",
    "    lines = f.read().splitlines()[nskipStart:-3]\n",
    "    \n",
    "    \n",
    "linesH2 = lines#[170:-50]"
   ]
  },
  {
   "cell_type": "code",
   "execution_count": 15,
   "id": "ea7c2afe",
   "metadata": {
    "scrolled": false
   },
   "outputs": [
    {
     "data": {
      "image/png": "[encoded data removed]",
      "text/plain": [
       "<Figure size 864x360 with 1 Axes>"
      ]
     },
     "metadata": {
      "needs_background": "light"
     },
     "output_type": "display_data"
    }
   ],
   "source": [
    "plt.rcParams[\"figure.figsize\"] = (12,5)\n",
    "\n",
    "elements = ConvertToList(linesVLE)\n",
    "axVLE = PlotLine(elements)\n",
    "\n",
    "#elements = ConvertToList(linesH2)\n",
    "#axH2 = PlotLine(elements)\n",
    "\n",
    "plt.show()"
   ]
  },
  {
   "cell_type": "code",
   "execution_count": null,
   "id": "39925e51",
   "metadata": {},
   "outputs": [],
   "source": []
  }
 ],
 "metadata": {
  "kernelspec": {
   "display_name": "Python 3",
   "language": "python",
   "name": "python3"
  },
  "language_info": {
   "codemirror_mode": {
    "name": "ipython",
    "version": 3
   },
   "file_extension": ".py",
   "mimetype": "text/x-python",
   "name": "python",
   "nbconvert_exporter": "python",
   "pygments_lexer": "ipython3",
   "version": "3.9.6"
  }
 },
 "nbformat": 4,
 "nbformat_minor": 5
}
